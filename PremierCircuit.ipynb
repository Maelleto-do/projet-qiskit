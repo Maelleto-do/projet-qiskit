{
 "cells": [
  {
   "cell_type": "code",
   "execution_count": 53,
   "id": "d007a0a4",
   "metadata": {},
   "outputs": [],
   "source": [
    "import qiskit\n",
    "import numpy as np\n",
    "import matplotlib.pyplot as plt\n",
    "%matplotlib inline\n",
    "\n",
    "import numpy as np\n",
    "import matplotlib.pyplot as plt\n",
    "%matplotlib inline\n",
    "\n",
    "# importing Qiskit\n",
    "from qiskit import BasicAer"
   ]
  },
  {
   "cell_type": "code",
   "execution_count": 39,
   "id": "5385d70c",
   "metadata": {},
   "outputs": [],
   "source": [
    "simulator = BasicAer.get_backend('qasm_simulator')"
   ]
  },
  {
   "cell_type": "code",
   "execution_count": 40,
   "id": "a2ca2997",
   "metadata": {},
   "outputs": [],
   "source": [
    "circuit = QuantumCircuit(1,1)"
   ]
  },
  {
   "cell_type": "code",
   "execution_count": 41,
   "id": "86835563",
   "metadata": {},
   "outputs": [
    {
     "data": {
      "text/plain": [
       "<qiskit.circuit.instructionset.InstructionSet at 0x2e90da436a0>"
      ]
     },
     "execution_count": 41,
     "metadata": {},
     "output_type": "execute_result"
    }
   ],
   "source": [
    "circuit.h(0)\n",
    "circuit.measure(0,0)"
   ]
  },
  {
   "cell_type": "code",
   "execution_count": 42,
   "id": "f6a7381c",
   "metadata": {},
   "outputs": [
    {
     "name": "stdout",
     "output_type": "stream",
     "text": [
      "     ┌───┐┌─┐\n",
      "  q: ┤ H ├┤M├\n",
      "     └───┘└╥┘\n",
      "c: 1/══════╩═\n",
      "           0 \n"
     ]
    }
   ],
   "source": [
    "print(circuit.draw(output='text'))"
   ]
  },
  {
   "cell_type": "code",
   "execution_count": 43,
   "id": "f603f5f5",
   "metadata": {},
   "outputs": [],
   "source": [
    "job = execute(circuit, simulator, shots = 1000)"
   ]
  },
  {
   "cell_type": "code",
   "execution_count": 46,
   "id": "e22673af",
   "metadata": {},
   "outputs": [],
   "source": [
    "result = job.result()\n",
    "counts = result.get_counts(circuit)"
   ]
  },
  {
   "cell_type": "code",
   "execution_count": 48,
   "id": "e168baeb",
   "metadata": {},
   "outputs": [
    {
     "name": "stdout",
     "output_type": "stream",
     "text": [
      "Nombre de 0 et de 1 :  {'0': 472, '1': 528}\n"
     ]
    }
   ],
   "source": [
    "print(\"Nombre de 0 et de 1 : \", counts)"
   ]
  },
  {
   "cell_type": "code",
   "execution_count": 52,
   "id": "27286589",
   "metadata": {},
   "outputs": [
    {
     "data": {
      "image/png": "[encoded data removed]",
      "text/plain": [
       "<Figure size 504x360 with 1 Axes>"
      ]
     },
     "execution_count": 52,
     "metadata": {},
     "output_type": "execute_result"
    }
   ],
   "source": [
    "qiskit.visualization.plot_histogram(counts)"
   ]
  }
 ],
 "metadata": {
  "kernelspec": {
   "display_name": "Python 3 (ipykernel)",
   "language": "python",
   "name": "python3"
  },
  "language_info": {
   "codemirror_mode": {
    "name": "ipython",
    "version": 3
   },
   "file_extension": ".py",
   "mimetype": "text/x-python",
   "name": "python",
   "nbconvert_exporter": "python",
   "pygments_lexer": "ipython3",
   "version": "3.9.7"
  }
 },
 "nbformat": 4,
 "nbformat_minor": 5
}
