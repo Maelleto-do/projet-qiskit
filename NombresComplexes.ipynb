{
 "cells": [
  {
   "cell_type": "code",
   "execution_count": 11,
   "id": "f587dab0",
   "metadata": {},
   "outputs": [],
   "source": [
    "import qiskit\n",
    "import numpy as np\n",
    "import matplotlib.pyplot as plt\n",
    "%matplotlib inline\n",
    "\n",
    "import numpy as np\n",
    "import matplotlib.pyplot as plt\n",
    "%matplotlib inline\n",
    "\n",
    "# importing Qiskit\n",
    "from qiskit import BasicAer"
   ]
  },
  {
   "cell_type": "code",
   "execution_count": 12,
   "id": "0179ee0b",
   "metadata": {},
   "outputs": [],
   "source": [
    "simulator = BasicAer.get_backend('statevector_simulator')\n",
    "circuit = qiskit.QuantumCircuit(1)"
   ]
  },
  {
   "cell_type": "code",
   "execution_count": 13,
   "id": "8e8623dc",
   "metadata": {},
   "outputs": [],
   "source": [
    "alpha0 = 3 + 1j\n",
    "beta0 = 1 - 2j\n",
    "norme = np.sqrt(abs(alpha0)**2 + abs(beta0)**2)\n",
    "alpha, beta = alpha0/norme, beta0/norme\n",
    "etat_initial = [alpha, beta]\n",
    "\n"
   ]
  },
  {
   "cell_type": "code",
   "execution_count": 14,
   "id": "62fe0d8a",
   "metadata": {},
   "outputs": [
    {
     "name": "stdout",
     "output_type": "stream",
     "text": [
      "   ┌───┐\n",
      "q: ┤ X ├\n",
      "   └───┘\n"
     ]
    }
   ],
   "source": [
    "circuit.x(0)\n",
    "print(circuit.draw(output=\"text\"))"
   ]
  },
  {
   "cell_type": "code",
   "execution_count": 15,
   "id": "7c8009e2",
   "metadata": {},
   "outputs": [
    {
     "data": {
      "text/plain": [
       "<qiskit.circuit.instructionset.InstructionSet at 0x29f02aa7640>"
      ]
     },
     "execution_count": 15,
     "metadata": {},
     "output_type": "execute_result"
    }
   ],
   "source": [
    "qubit_initial = qiskit.extensions.Initialize(etat_initial)\n",
    "circuit.append(qubit_initial, [0])"
   ]
  },
  {
   "cell_type": "code",
   "execution_count": 16,
   "id": "80e9304a",
   "metadata": {},
   "outputs": [
    {
     "name": "stdout",
     "output_type": "stream",
     "text": [
      "coefficient alpha :  (0.7745966692414835+0.25819888974716115j)\n",
      "coefficient beta :  (0.2581988897471612-0.5163977794943223j)\n",
      "[(0.7745966692414833+0.2581988897471611j), (0.2581988897471611-0.5163977794943222j)]\n"
     ]
    }
   ],
   "source": [
    "job = qiskit.execute(circuit, simulator)\n",
    "result = job.result()\n",
    "coeff = result.get_statevector()\n",
    "print(\"coefficient alpha : \", coeff[0])\n",
    "print(\"coefficient beta : \", coeff[1])\n",
    "print(etat_initial)"
   ]
  },
  {
   "cell_type": "code",
   "execution_count": null,
   "id": "1d731e11",
   "metadata": {},
   "outputs": [],
   "source": []
  }
 ],
 "metadata": {
  "kernelspec": {
   "display_name": "Python 3 (ipykernel)",
   "language": "python",
   "name": "python3"
  },
  "language_info": {
   "codemirror_mode": {
    "name": "ipython",
    "version": 3
   },
   "file_extension": ".py",
   "mimetype": "text/x-python",
   "name": "python",
   "nbconvert_exporter": "python",
   "pygments_lexer": "ipython3",
   "version": "3.9.7"
  }
 },
 "nbformat": 4,
 "nbformat_minor": 5
}
