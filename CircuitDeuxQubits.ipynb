{
 "cells": [
  {
   "cell_type": "markdown",
   "id": "0db286a9",
   "metadata": {},
   "source": [
    "# Circuits à deux qubits\n",
    "\n",
    "Ces exerices sont issus du livre *__Quantum : un peu de mathématiques pour l'informatique quantique de Arnaud Bodin__*, que je recommande fortement.\n",
    "\n",
    "L'idée est d'appréhender les circuits à deux quibits en utilisant la bibliothèque Qiskit."
   ]
  },
  {
   "cell_type": "code",
   "execution_count": 39,
   "id": "b6c35ec5",
   "metadata": {},
   "outputs": [],
   "source": [
    "import qiskit\n",
    "import numpy as np\n",
    "import matplotlib.pyplot as plt\n",
    "%matplotlib inline\n",
    "\n",
    "import numpy as np\n",
    "import matplotlib.pyplot as plt\n",
    "%matplotlib inline\n",
    "\n",
    "# importing Qiskit\n",
    "from qiskit import BasicAer"
   ]
  },
  {
   "cell_type": "markdown",
   "id": "db95b7e6",
   "metadata": {},
   "source": [
    "### Exercice 1 : mise en bouche\n",
    "\n",
    "L'exercice consiste à implémenter un circuit simple contenant deux qubits et deux mesures.\n",
    "\n"
   ]
  },
  {
   "cell_type": "code",
   "execution_count": 31,
   "id": "98345c22",
   "metadata": {},
   "outputs": [],
   "source": [
    "simulator = BasicAer.get_backend('qasm_simulator')"
   ]
  },
  {
   "cell_type": "code",
   "execution_count": 32,
   "id": "bf5a1b73",
   "metadata": {},
   "outputs": [],
   "source": [
    "circuit = qiskit.QuantumCircuit(2,2)"
   ]
  },
  {
   "cell_type": "code",
   "execution_count": 33,
   "id": "455cd5b8",
   "metadata": {},
   "outputs": [
    {
     "data": {
      "text/plain": [
       "<qiskit.circuit.instructionset.InstructionSet at 0x1adccc88fa0>"
      ]
     },
     "execution_count": 33,
     "metadata": {},
     "output_type": "execute_result"
    }
   ],
   "source": [
    "circuit.h(0)\n",
    "circuit.x(1)\n",
    "circuit.cx(0,1)\n",
    "circuit.h(1)\n",
    "circuit.measure([0,1], [0,1])"
   ]
  },
  {
   "cell_type": "code",
   "execution_count": 34,
   "id": "9a7cbcd0",
   "metadata": {},
   "outputs": [
    {
     "name": "stdout",
     "output_type": "stream",
     "text": [
      "     ┌───┐          ┌─┐   \n",
      "q_0: ┤ H ├──■───────┤M├───\n",
      "     ├───┤┌─┴─┐┌───┐└╥┘┌─┐\n",
      "q_1: ┤ X ├┤ X ├┤ H ├─╫─┤M├\n",
      "     └───┘└───┘└───┘ ║ └╥┘\n",
      "c: 2/════════════════╩══╩═\n",
      "                     0  1 \n"
     ]
    }
   ],
   "source": [
    "import PIL\n",
    "print(circuit.draw(output=\"text\"))\n",
    "#img_circuit.show()"
   ]
  },
  {
   "cell_type": "code",
   "execution_count": 35,
   "id": "0265cfff",
   "metadata": {},
   "outputs": [],
   "source": [
    "job = qiskit.execute(circuit, simulator, shots=1000)\n",
    "result = job.result()\n",
    "counts = result.get_counts(circuit)"
   ]
  },
  {
   "cell_type": "code",
   "execution_count": 36,
   "id": "34d2012e",
   "metadata": {},
   "outputs": [
    {
     "name": "stdout",
     "output_type": "stream",
     "text": [
      "{'10': 264, '01': 245, '11': 236, '00': 255}\n"
     ]
    }
   ],
   "source": [
    "print(counts)"
   ]
  },
  {
   "cell_type": "markdown",
   "id": "acf16233",
   "metadata": {},
   "source": [
    "### Exercice 2 : \"montrer\" que deux circuits sont équivalents\n",
    "\n",
    "Cet exercice consiste à montrer l'équivalence entre deux circuit.\n",
    "\n",
    "Nous Utilisation du simulateur `statevector_simulator` afin d'avoir accès aux états quantiques en plus des mesures \n",
    "(Attention, cette pratique est utile pour apprendre mais ne correspond pas à la réalité physique !)."
   ]
  },
  {
   "cell_type": "code",
   "execution_count": 94,
   "id": "fbec6936",
   "metadata": {},
   "outputs": [],
   "source": [
    "\n",
    "simulator = BasicAer.get_backend('statevector_simulator')"
   ]
  },
  {
   "cell_type": "markdown",
   "id": "5f67f5f7",
   "metadata": {},
   "source": [
    "Définissons pour commencer un qubit de norme $1$ : $|\\psi_1\\rangle$, en choisissant deux nombres complexes au hasard $\\alpha_0,\\beta_0$, en définissant la norme $n$, puis en définissant $\\alpha = \\alpha_0 / n, \\beta = \\beta_0 / n$ puis le qubit $|\\psi_1\\rangle = \\alpha|0\\rangle + \\beta|1\\rangle$."
   ]
  },
  {
   "cell_type": "code",
   "execution_count": 95,
   "id": "6f8b0e4d",
   "metadata": {},
   "outputs": [],
   "source": [
    "alpha0 = 3 + 4j\n",
    "beta0 = 2 - 6j\n",
    "\n",
    "norme = np.sqrt(abs(alpha0)**2 + abs(beta0)**2)\n",
    "\n",
    "alpha = alpha0 / norme\n",
    "beta = beta0 / norme\n",
    "\n",
    "etat_inital = [alpha, beta]\n",
    "qubit_initial_1 = qiskit.extensions.Initialize(etat_inital)"
   ]
  },
  {
   "cell_type": "markdown",
   "id": "b77a5b5c",
   "metadata": {},
   "source": [
    "Définissons de la même manière un deuxième qubit de norme $1$ : $|\\psi_2\\rangle$."
   ]
  },
  {
   "cell_type": "code",
   "execution_count": 96,
   "id": "bb9c326d",
   "metadata": {},
   "outputs": [],
   "source": [
    "delta0 = 1 + 8j\n",
    "gamma0 = 3 + 5j\n",
    "\n",
    "norme = np.sqrt(abs(delta0)**2 + abs(gamma0)**2)\n",
    "\n",
    "delta = delta0 / norme\n",
    "gamma = gamma0 / norme\n",
    "\n",
    "etat_inital = [delta, gamma]\n",
    "qubit_initial_2 = qiskit.extensions.Initialize(etat_inital)\n"
   ]
  },
  {
   "cell_type": "markdown",
   "id": "ce0a20ef",
   "metadata": {},
   "source": [
    "Ecrivons le premier circuit et calculons la valeur du 2-qubit en sortie :"
   ]
  },
  {
   "cell_type": "code",
   "execution_count": 97,
   "id": "46564b5d",
   "metadata": {},
   "outputs": [
    {
     "name": "stdout",
     "output_type": "stream",
     "text": [
      "     ┌───┐     ┌───┐\n",
      "q_0: ┤ H ├──■──┤ H ├\n",
      "     ├───┤┌─┴─┐├───┤\n",
      "q_1: ┤ H ├┤ X ├┤ H ├\n",
      "     └───┘└───┘└───┘\n",
      "c: 2/═══════════════\n",
      "                    \n"
     ]
    }
   ],
   "source": [
    "circuit1 = qiskit.QuantumCircuit(2,2)\n",
    "circuit1.h(0)\n",
    "circuit1.h(1)\n",
    "circuit1.cx(0,1)\n",
    "circuit1.h(0)\n",
    "circuit1.h(1)\n",
    "\n",
    "print(circuit1.draw(output=\"text\"))"
   ]
  },
  {
   "cell_type": "markdown",
   "id": "30cd7592",
   "metadata": {},
   "source": [
    "Calculons la valeur du 2-qubit en sortie :"
   ]
  },
  {
   "cell_type": "code",
   "execution_count": 98,
   "id": "d2648ba0",
   "metadata": {},
   "outputs": [
    {
     "name": "stdout",
     "output_type": "stream",
     "text": [
      "[-0.36151284+0.34904688j  0.62329799+0.1246596j  -0.13712556+0.33658092j\n",
      "  0.44877456-0.09972768j]\n"
     ]
    }
   ],
   "source": [
    "circuit1.append(qubit_initial_1, [0])\n",
    "circuit1.append(qubit_initial_2, [1])\n",
    "\n",
    "job = qiskit.execute(circuit1, simulator)\n",
    "result = job.result()\n",
    "coefficients = result.get_statevector()\n",
    "\n",
    "print(coefficients)"
   ]
  },
  {
   "cell_type": "markdown",
   "id": "bdc7375d",
   "metadata": {},
   "source": [
    "Ecrivons le premier circuit et calculons la valeur du 2-qubit en sortie :"
   ]
  },
  {
   "cell_type": "code",
   "execution_count": 99,
   "id": "4be75c2b",
   "metadata": {},
   "outputs": [
    {
     "name": "stdout",
     "output_type": "stream",
     "text": [
      "     ┌───┐\n",
      "q_0: ┤ X ├\n",
      "     └─┬─┘\n",
      "q_1: ──■──\n",
      "          \n",
      "c: 2/═════\n",
      "          \n"
     ]
    }
   ],
   "source": [
    "circuit2 = qiskit.QuantumCircuit(2,2)\n",
    "circuit2.cx(1, 0)\n",
    "\n",
    "print(circuit2.draw(output=\"text\"))"
   ]
  },
  {
   "cell_type": "markdown",
   "id": "8cd7a163",
   "metadata": {},
   "source": [
    "Calculons la valeur du 2-qubit en sortie :"
   ]
  },
  {
   "cell_type": "code",
   "execution_count": 100,
   "id": "6ebd892e",
   "metadata": {},
   "outputs": [
    {
     "name": "stdout",
     "output_type": "stream",
     "text": [
      "[-0.36151284+0.34904688j  0.62329799+0.1246596j  -0.13712556+0.33658092j\n",
      "  0.44877456-0.09972768j]\n"
     ]
    }
   ],
   "source": [
    "circuit2.append(qubit_initial_1, [0])\n",
    "circuit2.append(qubit_initial_2, [1])\n",
    "\n",
    "job = qiskit.execute(circuit2, simulator)\n",
    "result = job.result()\n",
    "coeff = result.get_statevector()\n",
    "\n",
    "print(coeff)"
   ]
  },
  {
   "cell_type": "markdown",
   "id": "4367bd1d",
   "metadata": {},
   "source": [
    "## Conclusion :\n",
    "Les coefficients du qubit en sortie dans les deux circuits sont identique, donc les deux circuits sont équivalents."
   ]
  }
 ],
 "metadata": {
  "kernelspec": {
   "display_name": "Python 3 (ipykernel)",
   "language": "python",
   "name": "python3"
  },
  "language_info": {
   "codemirror_mode": {
    "name": "ipython",
    "version": 3
   },
   "file_extension": ".py",
   "mimetype": "text/x-python",
   "name": "python",
   "nbconvert_exporter": "python",
   "pygments_lexer": "ipython3",
   "version": "3.9.7"
  }
 },
 "nbformat": 4,
 "nbformat_minor": 5
}
