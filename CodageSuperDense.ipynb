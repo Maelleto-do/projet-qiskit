{
 "cells": [
  {
   "cell_type": "markdown",
   "id": "f4abd40e",
   "metadata": {},
   "source": [
    "# Codage super dense\n",
    "\n",
    "## Description du protocole\n",
    "\n",
    "\n",
    "_\"En quittant Athènes, Thésée avait promis à son père Egée de hisser une voile blanche à son retour en cas de victoire sur le Minotaure, et de laisser une voile noire hissée en cas d'échec.\n",
    "Chaque matin, Egée se porte à l'horizon, espérant apercevoir une voile blanche.\"_\n",
    "\n",
    "Transposons cette histoire mythologique dans notre monde moderne quantique, en changeant un peu les noms des protagonistes : Alice souhaite communiquer une couleur à Bob (Noir, Rouge, Bleu, ou Blanc) en utilisant la mécanique quantique.\n",
    "\n",
    "Dans cet exercice, il s'agit donc de transmettre une information classique composée de deux bits 0.0 (Noir) ou 0.1 (Rouge) ou 1.0 (Bleu) ou 1.1 (Blanc) en transmettant un seul qubit via un protocole appelé le **codage super dense**.\n",
    "\n",
    "\n",
    "Voici la description de l'algorithme :\n",
    "\n",
    "- Une personne quelconque, disons un ami de Alice, Charlie, commence par intriquer deux qubits entre eux : pour cela, il prépare l'état de Bell $|\\phi^+\\rangle = \\frac{1}{\\sqrt{2}}|0.0\\rangle + \\frac{1}{\\sqrt{2}}|1.1\\rangle $, qui correspond à une intrication maximale. \n",
    "\n",
    "- En notant l'état de Bell de la forme : $|\\phi^+\\rangle = \\frac{1}{\\sqrt{2}}|0_A.0_B\\rangle + \\frac{1}{\\sqrt{2}}|1_A.1_B\\rangle $, Charlie envoie :\n",
    "    - un premier qubit à Alice ($|\\psi_A\\rangle = \\frac{1}{\\sqrt{2}}|0_A\\rangle + \\frac{1}{\\sqrt{2}}|1_A\\rangle $)\n",
    "    - un deuxième qubit à Bob ($|\\psi_B\\rangle = \\frac{1}{\\sqrt{2}}|0_B\\rangle + \\frac{1}{\\sqrt{2}}|1_B\\rangle $)  \n",
    "\n",
    "Attention ! Ces deux qubits sont **intriqués**, c'est-à-dire qu'ils continuent de partager des données communes même séparés d'une très grande distance. C'est sur cette particularité que va jouer le codage super dense : si $|\\psi_A\\rangle$ donne une valeur lors de sa mesure, alors $|\\psi_B\\rangle$ vaudra aussi cette valeur, et inversement.\n",
    "\n",
    "\n",
    "- Maintenant que Alice a en main son qubit $|\\psi_A\\rangle$, il s'agit de l'utiliser pour faire passer son message à Bob. Admettons les règles suivantes (vous allez comprendre par la suite pourquoi) :\n",
    "    - Si elle veut transmettre Noir / 0.0, disons qu'elle applique l'Identité _I_ sur son qubit (il ne se passe rien)\n",
    "    - Si elle veur transmettre l'information Rouge / 0.1, elle applique la porte _X_\n",
    "    - Si elle veur transmettre l'information Bleu / 1.0, elle applique la porte _Z_\n",
    "    - Si elle veur transmettre l'information Rouge / 1.1, elle applique la porte _X_, suivie de la porte _Z_\n",
    "    \n",
    "- Très bien, Alice a transformé son qubit comme elle voulait, elle l'envoie donc à Bob. Ce qubit sera noté $|\\psi_A'\\rangle$.\n",
    "\n",
    "\n",
    "- Bob reçoit son qubit $|\\psi_A'\\rangle$ de la part d'Alice. Mais !! N'oublions pas qu'il a en main son qubit $|\\psi_B\\rangle = \\frac{1}{\\sqrt{2}}|0_B\\rangle + \\frac{1}{\\sqrt{2}}|1_B\\rangle $ ! Et comme nous l'avons dit plus haut, les deux qubits $|\\psi_A\\rangle$ et $|\\psi_B\\rangle$ sont intriqués, c'est-à-dire que la mesure de l'un donne la mesure de l'autre.\n",
    "\n",
    "Ainsi (cette résolution peut être prouvée), si Bob applique exactement la porte $CNOT$ sur le 2-qubit puis la porte $H$ sur le qubit indexé par A, et retrouve le message d'Alice !\n",
    "\n",
    "\n",
    "    \n"
   ]
  },
  {
   "cell_type": "markdown",
   "id": "e75ea507",
   "metadata": {},
   "source": [
    "## Mise en pratique"
   ]
  },
  {
   "cell_type": "code",
   "execution_count": 33,
   "id": "a24e9d85",
   "metadata": {},
   "outputs": [],
   "source": [
    "import qiskit as q\n",
    "import numpy as np\n",
    "import matplotlib.pyplot as plt\n",
    "%matplotlib inline\n",
    "\n",
    "import numpy as np\n",
    "import matplotlib.pyplot as plt\n",
    "%matplotlib inline\n",
    "\n",
    "from qiskit import BasicAer"
   ]
  },
  {
   "cell_type": "code",
   "execution_count": 49,
   "id": "48776013",
   "metadata": {},
   "outputs": [],
   "source": [
    "simulator = q.BasicAer.get_backend('qasm_simulator')\n",
    "circuit = q.QuantumCircuit(2,2)"
   ]
  },
  {
   "cell_type": "markdown",
   "id": "0ea032a3",
   "metadata": {},
   "source": [
    "### 1) Préparation de l'état de Bell\n",
    "\n",
    "La première étape du codage super dense consiste pour Charlie, l'ami d'Alice et Bob, à la préparation de l'état dit \"de Bell\", qui consiste en l'application d'une porte $H$ suivie d'une porte $X$."
   ]
  },
  {
   "cell_type": "code",
   "execution_count": 50,
   "id": "06bce7c9",
   "metadata": {},
   "outputs": [
    {
     "name": "stdout",
     "output_type": "stream",
     "text": [
      "     ┌───┐     \n",
      "q_0: ┤ H ├──■──\n",
      "     └───┘┌─┴─┐\n",
      "q_1: ─────┤ X ├\n",
      "          └───┘\n",
      "c: 2/══════════\n",
      "               \n"
     ]
    }
   ],
   "source": [
    "circuit.h(0)\n",
    "circuit.cx(0,1)\n",
    "\n",
    "print(circuit.draw(output = \"text\"))"
   ]
  },
  {
   "cell_type": "markdown",
   "id": "34c06348",
   "metadata": {},
   "source": [
    "Choisissons un message bidon pour Alice, composé de deux bits :"
   ]
  },
  {
   "cell_type": "code",
   "execution_count": 57,
   "id": "44507b29",
   "metadata": {},
   "outputs": [],
   "source": [
    "message_alice = \"11\""
   ]
  },
  {
   "cell_type": "markdown",
   "id": "21e9dbc6",
   "metadata": {},
   "source": [
    "### 2) Codage d'Alice\n",
    "\n",
    "Alice procède ensuite au codage en appliquant différentes portes quantiques selon son message."
   ]
  },
  {
   "cell_type": "code",
   "execution_count": null,
   "id": "513b1198",
   "metadata": {},
   "outputs": [],
   "source": [
    "def transformation_alice(message):\n",
    "    if message == '00':\n",
    "        circuit.iden(0)\n",
    "    elif message == '01':\n",
    "        circuit.z(0)\n",
    "    elif message == '10':\n",
    "        circuit.x(0)\n",
    "    elif message == '11':\n",
    "        circuit.x(0)\n",
    "        circuit.z(0)\n"
   ]
  },
  {
   "cell_type": "code",
   "execution_count": 58,
   "id": "4f8eec5a",
   "metadata": {},
   "outputs": [],
   "source": [
    "transformation_alice(message_alice)"
   ]
  },
  {
   "cell_type": "markdown",
   "id": "768bb2cb",
   "metadata": {},
   "source": [
    "### 3) Decodage de Bob\n",
    "\n",
    "Bob procède ensuite au décodage, en appliquant l'inverse du processus appliqué par Charlie, soit la porte $X$ suivie de la porte $H$."
   ]
  },
  {
   "cell_type": "code",
   "execution_count": 54,
   "id": "4cf7e38c",
   "metadata": {},
   "outputs": [
    {
     "data": {
      "text/plain": [
       "<qiskit.circuit.instructionset.InstructionSet at 0x2140ed54580>"
      ]
     },
     "execution_count": 54,
     "metadata": {},
     "output_type": "execute_result"
    }
   ],
   "source": [
    "# Décodage par Bob\n",
    "circuit.cx(0,1)\n",
    "circuit.h(0)"
   ]
  },
  {
   "cell_type": "code",
   "execution_count": 61,
   "id": "ab999ba0",
   "metadata": {},
   "outputs": [
    {
     "name": "stdout",
     "output_type": "stream",
     "text": [
      "     ┌───┐     ┌───┐┌───┐     ┌───┐┌─┐┌───┐┌───┐┌─┐\n",
      "q_0: ┤ H ├──■──┤ X ├┤ Z ├──■──┤ H ├┤M├┤ X ├┤ Z ├┤M├\n",
      "     └───┘┌─┴─┐└───┘└───┘┌─┴─┐└┬─┬┘└╥┘└┬─┬┘└───┘└╥┘\n",
      "q_1: ─────┤ X ├──────────┤ X ├─┤M├──╫──┤M├───────╫─\n",
      "          └───┘          └───┘ └╥┘  ║  └╥┘       ║ \n",
      "c: 2/═══════════════════════════╩═══╩═══╩════════╩═\n",
      "                                1   0   1        0 \n"
     ]
    }
   ],
   "source": [
    "circuit.measure([0,1], [0,1])\n",
    "print(circuit.draw(output='text'))"
   ]
  },
  {
   "cell_type": "markdown",
   "id": "af0dd2f9",
   "metadata": {},
   "source": [
    "Executons l'ensemble du protocole :"
   ]
  },
  {
   "cell_type": "code",
   "execution_count": 62,
   "id": "9c2d0f3a",
   "metadata": {},
   "outputs": [
    {
     "name": "stdout",
     "output_type": "stream",
     "text": [
      "{'10': 1000}\n"
     ]
    }
   ],
   "source": [
    "# Execution\n",
    "job = q.execute(circuit, simulator, shots=1000)\n",
    "result = job.result()\n",
    "counts = result.get_counts(circuit)\n",
    "print(counts)"
   ]
  },
  {
   "cell_type": "markdown",
   "id": "9a689284",
   "metadata": {},
   "source": [
    "Nous voyons ici que Bob optient le message d'Alice dans 100% des cas !"
   ]
  }
 ],
 "metadata": {
  "kernelspec": {
   "display_name": "Python 3 (ipykernel)",
   "language": "python",
   "name": "python3"
  },
  "language_info": {
   "codemirror_mode": {
    "name": "ipython",
    "version": 3
   },
   "file_extension": ".py",
   "mimetype": "text/x-python",
   "name": "python",
   "nbconvert_exporter": "python",
   "pygments_lexer": "ipython3",
   "version": "3.9.7"
  }
 },
 "nbformat": 4,
 "nbformat_minor": 5
}
